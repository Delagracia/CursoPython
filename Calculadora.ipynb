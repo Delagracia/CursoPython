{
  "nbformat": 4,
  "nbformat_minor": 0,
  "metadata": {
    "colab": {
      "provenance": []
    },
    "kernelspec": {
      "name": "python3",
      "display_name": "Python 3"
    },
    "language_info": {
      "name": "python"
    }
  },
  "cells": [
    {
      "cell_type": "markdown",
      "source": [
        "**Prática 1**\n",
        "\n",
        "1. Utilize o comando 'input' para receber pelo menos 2 números de entrada do usuário;\n",
        "\n",
        "2. Converta os valores recebidos pelo usuário para número inteiro (int) ou ponto flutuante (float);\n",
        "\n",
        "3. Implemente pelo menos 4 operações matemáticas em seu código;\n",
        "\n",
        "4. Adicione um laço de repetição ou uma condicional. Por exemplo: você pode permitir que o usuário escolha qual operação realizar ou criar um loop que permita ao usuário realizar várias operações consecutivas;\n",
        "\n",
        "5. Utilize o comando 'print' para exibir o resultado da operação matemática.\n",
        "\n"
      ],
      "metadata": {
        "id": "IOjCz5eTC4f5"
      }
    },
    {
      "cell_type": "code",
      "execution_count": 9,
      "metadata": {
        "colab": {
          "base_uri": "https://localhost:8080/"
        },
        "id": "S43m5RggBTiR",
        "outputId": "ec70ee12-03a2-4c3b-c46f-ca098b522195"
      },
      "outputs": [
        {
          "output_type": "stream",
          "name": "stdout",
          "text": [
            "O número 1 é: 2\n",
            "O número 2 é: 3\n",
            "Escolha uma operação:\n",
            "1. Soma\n",
            "2. Subtração\n",
            "3. Multiplicação\n",
            "4. Divisão\n",
            "5. Sair\n",
            "Digite o número da operação desejada: 4\n",
            "O resultado da operação é:  0.6666666666666666\n",
            "Escolha uma operação:\n",
            "1. Soma\n",
            "2. Subtração\n",
            "3. Multiplicação\n",
            "4. Divisão\n",
            "5. Sair\n",
            "Digite o número da operação desejada: 2\n",
            "O resultado da operação é:  -1.0\n",
            "Escolha uma operação:\n",
            "1. Soma\n",
            "2. Subtração\n",
            "3. Multiplicação\n",
            "4. Divisão\n",
            "5. Sair\n",
            "Digite o número da operação desejada: 1\n",
            "O resultado da operação é:  5.0\n",
            "Escolha uma operação:\n",
            "1. Soma\n",
            "2. Subtração\n",
            "3. Multiplicação\n",
            "4. Divisão\n",
            "5. Sair\n",
            "Digite o número da operação desejada: 5\n",
            "o programa está sendo encerrado\n"
          ]
        }
      ],
      "source": [
        "#Recebendo dois números\n",
        "num1 = input(\"O número 1 é: \")\n",
        "num2 = input(\"O número 2 é: \")\n",
        "\n",
        "#Convertendo os valores recebidos pelo usuário\n",
        "\n",
        "num1 = float(num1)\n",
        "num2 = float(num2)\n",
        "\n",
        "#implementando pelo menos quatro operações matemáticas\n",
        "\n",
        "def calcular (operacao, num1, num2):\n",
        "  if operacao == 1:\n",
        "    return num1 + num2\n",
        "  elif operacao == 2:\n",
        "    return num1 - num2\n",
        "  elif operacao == 3:\n",
        "    return num1 * num2\n",
        "  elif operacao == 4:\n",
        "    if num2!=0:\n",
        "      return num1 / num2\n",
        "    else:\n",
        "      return \"não é possível dividir por zero\"\n",
        "  else:\n",
        "    return \"operação inválida\"\n",
        "\n",
        "#exibindo as operações para que o usuário escolha\n",
        "\n",
        "def menu():\n",
        "    print(\"Escolha uma operação:\")\n",
        "    print(\"1. Soma\")\n",
        "    print(\"2. Subtração\")\n",
        "    print(\"3. Multiplicação\")\n",
        "    print(\"4. Divisão\")\n",
        "    print(\"5. Sair\")\n",
        "\n",
        "#laço de repetição\n",
        "\n",
        "while True:\n",
        "    menu()\n",
        "    escolha = input(\"Digite o número da operação desejada: \")\n",
        "    escolha = float(escolha)\n",
        "\n",
        "    if escolha == 5:\n",
        "      print(\"o programa está sendo encerrado\")\n",
        "      break\n",
        "    else:\n",
        "        resultado = calcular(escolha, num1, num2)\n",
        "        print(\"O resultado da operação é: \", resultado)\n",
        "\n"
      ]
    },
    {
      "cell_type": "code",
      "source": [],
      "metadata": {
        "id": "WIkes4ycFX9T"
      },
      "execution_count": null,
      "outputs": []
    }
  ]
}